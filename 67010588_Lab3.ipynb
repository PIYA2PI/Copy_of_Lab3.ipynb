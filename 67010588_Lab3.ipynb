{
  "nbformat": 4,
  "nbformat_minor": 0,
  "metadata": {
    "colab": {
      "provenance": [],
      "include_colab_link": true
    },
    "kernelspec": {
      "name": "python3",
      "display_name": "Python 3"
    },
    "language_info": {
      "name": "python"
    }
  },
  "cells": [
    {
      "cell_type": "markdown",
      "metadata": {
        "id": "view-in-github",
        "colab_type": "text"
      },
      "source": [
        "<a href=\"https://colab.research.google.com/github/PIYA2PI/Copy_of_Lab3.ipynb/blob/main/67010588_Lab3.ipynb\" target=\"_parent\"><img src=\"https://colab.research.google.com/assets/colab-badge.svg\" alt=\"Open In Colab\"/></a>"
      ]
    },
    {
      "cell_type": "markdown",
      "source": [
        "# Exercise 3\n",
        "\n",
        "3.1 จากข้อมูลใน List ให้หาผลบวกเฉพาะตัวเลขคู่ โดยใช้ While Loop\n",
        "\n",
        "list1 = [1, 2, 3, 4, 5, 6, 7, 8, 9, 11, 13]\n",
        "\n"
      ],
      "metadata": {
        "id": "8LZVzcOUVMor"
      }
    },
    {
      "cell_type": "code",
      "source": [],
      "metadata": {
        "id": "g20jte7oyOEG"
      },
      "execution_count": null,
      "outputs": []
    },
    {
      "cell_type": "code",
      "execution_count": null,
      "metadata": {
        "id": "2cTrxjMXUE2n",
        "outputId": "7cda94af-9d83-4e37-a3d5-da741b2b3360",
        "colab": {
          "base_uri": "https://localhost:8080/"
        }
      },
      "outputs": [
        {
          "output_type": "stream",
          "name": "stdout",
          "text": [
            "2\n",
            "4\n",
            "6\n",
            "8\n",
            "1322222222222222222\n"
          ]
        }
      ],
      "source": [
        "list1 = [1, 2, 3, 4, 5, 6, 7, 8, 9, 11, 1322222222222222222]\n",
        "\n",
        "for i in list1:\n",
        "  if i%2==0:\n",
        "    print(i)"
      ]
    },
    {
      "cell_type": "markdown",
      "source": [
        "3.2 จากข้อมูลใน List ให้หาตัวเลขที่มีค่ามากที่สุดเป็นอันดับ 2 ใน List โดยใช้ While Loop\n",
        "\n",
        "list = [-5, 7, 10, 1, 2, 5, 8, 100]\n"
      ],
      "metadata": {
        "id": "uPvbrsO_Vimb"
      }
    },
    {
      "cell_type": "code",
      "source": [
        "from ast import Index\n",
        "list = [-5, 7, 10, 1, 2, 5, 8, 100]\n",
        "max1 = list[0]\n",
        "max2 = list[0]\n",
        "i=1\n",
        "x=1\n",
        "while i<len(list) :\n",
        "  if list[i]>max1 :\n",
        "    max1 = list[i]\n",
        "  i +=1\n",
        "while x<len(list):\n",
        "  if list[x]>max2 and list[x] != max1 :\n",
        "      max2 = list[x]\n",
        "  x +=1\n",
        "print(max2)\n",
        "\n",
        "\n",
        "\n"
      ],
      "metadata": {
        "id": "iUeJ91zfVr1Z",
        "colab": {
          "base_uri": "https://localhost:8080/"
        },
        "outputId": "cdf1cee0-3dfb-4ce7-b79a-041fc6d6c0c0"
      },
      "execution_count": null,
      "outputs": [
        {
          "output_type": "stream",
          "name": "stdout",
          "text": [
            "10\n"
          ]
        }
      ]
    },
    {
      "cell_type": "markdown",
      "source": [
        "3.3 เขียนโปรแกรมรับค่า n แล้วคำนวณค่าต่อไปนี้\n",
        "\n",
        "$1/1^2 + 1/2^2 + 1/3^2 + 1/4^2 + 1/5^2 + … +  1/n^2$\n"
      ],
      "metadata": {
        "id": "udBZzWe9VsU7"
      }
    },
    {
      "cell_type": "code",
      "source": [
        "n=int(input(\"\"))\n",
        "x = 1\n",
        "sum = 0\n",
        "while x<=n :\n",
        "  sum += 1/x**2\n",
        "  x +=1\n",
        "print(sum)"
      ],
      "metadata": {
        "id": "xtBw7zuxWEZ4",
        "colab": {
          "base_uri": "https://localhost:8080/"
        },
        "outputId": "50d47eb7-85e9-43a9-b134-55630c8ac289"
      },
      "execution_count": null,
      "outputs": [
        {
          "output_type": "stream",
          "name": "stdout",
          "text": [
            "2\n",
            "1.25\n"
          ]
        }
      ]
    },
    {
      "cell_type": "markdown",
      "source": [
        "3.4 จากข้อมูลใน List ให้ตรวจสอบว่า ข้อมูลในลิสต์ s เรียงลำดับจากน้อยไปมากหรือไม่ ตอบเป็น True, False\n",
        "\n",
        "\t[1,2,3,4,5], [5,4,3,2,1]\n"
      ],
      "metadata": {
        "id": "o-6AnE5zWFJJ"
      }
    },
    {
      "cell_type": "code",
      "source": [
        "s = [[1,2,3,4,5], [5,4,3,2,1]]\n",
        "s1 = [[1,2,3,4,5], [5,4,3,2,1]]\n",
        "x = s1[0]\n",
        "x1 = s1[1]\n",
        "x.sort()\n",
        "x1.sort()\n",
        "if s[0] == x :\n",
        "  print( f\"{s[0]} = True\")\n",
        "else :\n",
        "  print( f\"{s[0]} = False\")\n",
        "if s[1] == x1 :\n",
        "  print( f\"{s[1]} = True\")\n",
        "else :\n",
        "  print( f\"{s[1]} = False\")\n",
        "\n",
        "\n"
      ],
      "metadata": {
        "id": "LYG2sGGgWNei",
        "colab": {
          "base_uri": "https://localhost:8080/"
        },
        "outputId": "016002a4-95ae-4514-dd1f-1b23ff4d4f84"
      },
      "execution_count": 2,
      "outputs": [
        {
          "output_type": "stream",
          "name": "stdout",
          "text": [
            "[1, 2, 3, 4, 5] = True\n",
            "[5, 4, 3, 2, 1] = False\n"
          ]
        }
      ]
    },
    {
      "cell_type": "markdown",
      "source": [
        "3.5  ให้ x เป็นลิสต์เก็บคะแนน ต้องการปรับช่องที่มีค่าน้อยกว่า 30 ให้มีค่าเพิ่มอีก 10% แสดงผลลัพธ์ เป็น List\n",
        "\n",
        "\tx = [60, 70, 72, 65, 55, 43, 20, 90, 12]\n"
      ],
      "metadata": {
        "id": "Hv-fE32hWOBd"
      }
    },
    {
      "cell_type": "code",
      "source": [
        "x = [60, 70, 72, 65, 55, 43, 20, 90, 12]\n",
        "i = 0\n",
        "while  i < len(x) :\n",
        "  if x[i] <= 30 :\n",
        "    x[i] += x[i]*0.1\n",
        "  i +=1\n",
        "print(x)"
      ],
      "metadata": {
        "id": "BSFOJ_8GWTtL",
        "colab": {
          "base_uri": "https://localhost:8080/"
        },
        "outputId": "6d14fa2c-4e9b-4f39-d39b-d8afff7b1290"
      },
      "execution_count": 20,
      "outputs": [
        {
          "output_type": "stream",
          "name": "stdout",
          "text": [
            "[60, 70, 72, 65, 55, 43, 22.0, 90, 13.2]\n"
          ]
        }
      ]
    },
    {
      "cell_type": "markdown",
      "source": [
        "3.6 ต้องการหาผลรวมของคะแนนที่เก็บในลิสต์ x โดยขอไม่รวมคะแนนที่น้อยสุดอันดับ 2\n",
        "\n",
        "\tx = [15, 80, 75, 62, 55, 43, 99, 67, 10]\n"
      ],
      "metadata": {
        "id": "IDw88nQbWUTw"
      }
    },
    {
      "cell_type": "code",
      "source": [
        "x = [15, 80, 75, 62, 55, 43, 99, 67, 10]\n",
        "x.sort()\n",
        "i = 0\n",
        "sum = 0\n",
        "while i < len(x) :\n",
        "  sum += x[i]\n",
        "  i +=1\n",
        "sum1 = sum - x[1]\n",
        "print(sum1)\n"
      ],
      "metadata": {
        "id": "Aool1F22WZKI",
        "colab": {
          "base_uri": "https://localhost:8080/"
        },
        "outputId": "a20b9db2-f466-496c-963f-2747046b2994"
      },
      "execution_count": 33,
      "outputs": [
        {
          "output_type": "stream",
          "name": "stdout",
          "text": [
            "491\n"
          ]
        }
      ]
    },
    {
      "cell_type": "markdown",
      "source": [
        "3.7 จากข้อมูลใน List ให้แสดง string ที่มีความยาวมากกว่า 2 และมีอักษรตัวแรกกับตัวสุดท้ายเหมือนกัน แสดงบรรทัดละ 1 ตัว\n",
        "\n",
        "\tlst = ['abba', 'a', 'aa', 'alcaza', 'python', 'stores', 'program', 'execute']\n"
      ],
      "metadata": {
        "id": "92oZ0IQdWZkF"
      }
    },
    {
      "cell_type": "code",
      "source": [
        "lst = ['abba', 'a', 'aa', 'alcaza', 'python', 'stores', 'program', 'execute']\n",
        "i = 0\n",
        "while i < len(lst) :\n",
        "    if len(lst[i]) > 2 and lst[i][0] == lst[i][-1] :\n",
        "        print(lst[i])\n",
        "    i += 1\n",
        "\n",
        "\n",
        ""
      ],
      "metadata": {
        "id": "i3vr0x1vWiHH",
        "colab": {
          "base_uri": "https://localhost:8080/"
        },
        "outputId": "2e36312d-f5a3-4bec-a618-327834fc07f2"
      },
      "execution_count": 35,
      "outputs": [
        {
          "output_type": "stream",
          "name": "stdout",
          "text": [
            "abba\n",
            "alcaza\n",
            "stores\n",
            "execute\n"
          ]
        }
      ]
    },
    {
      "cell_type": "markdown",
      "source": [
        "3.8 จากข้อมูลใน List ให้ลบข้อมูลที่มีซ้ำกันให้เหลือเพียงตัวเดียว ให้แสดงผลเป็น list เช่น\n",
        "\n",
        "[‘a’,’a’] => [‘a’]\n",
        "\n",
        "lst = ['a', 'a', 'b', 'a', 'b', 'c', 'd']\n"
      ],
      "metadata": {
        "id": "QicYHZbcWi8U"
      }
    },
    {
      "cell_type": "code",
      "source": [
        "l =  ['a', 'a', 'b', 'a', 'b', 'c', 'd']\n",
        "ans = []\n",
        "\n",
        "for i in l:\n",
        "    if i not in ans:\n",
        "        ans.append(i)\n",
        "\n",
        "ans.sort()\n",
        "print(ans)\n"
      ],
      "metadata": {
        "id": "saXxuMceWzd2",
        "colab": {
          "base_uri": "https://localhost:8080/"
        },
        "outputId": "2c7eddb7-fd1e-4af2-d322-6a041ff14ba3"
      },
      "execution_count": 90,
      "outputs": [
        {
          "output_type": "stream",
          "name": "stdout",
          "text": [
            "['a', 'b', 'c', 'd']\n"
          ]
        }
      ]
    },
    {
      "cell_type": "markdown",
      "source": [
        "3.9 จากข้อมูลใน List ให้แสดงว่าแต่ละข้อมูลใน List มีจำนวนเท่าไร คือ มีซ้ำกันกี่ตัวใน List  ให้แสดงบรรทัดละตัว เช่น\n",
        "\n",
        "\t[1, 2, 3, 4, 1, 2, 3, 1, 2, 1]\n",
        "\t1 = 4\n",
        "\t2 = 3\n",
        "\t3 = 2\n",
        "\t4 = 1\n",
        "  \n",
        "\tlst = [1,2,3,4,5,1,2,3,4,1,2,3,1,2,1]"
      ],
      "metadata": {
        "id": "Dl6OEM9nWz8s"
      }
    },
    {
      "cell_type": "code",
      "source": [
        "l = [1,2,3,4,5,1,2,3,4,1,2,3,1,2,1]\n",
        "ans = []\n",
        "\n",
        "for i in l:\n",
        "    if i not in ans:\n",
        "        ans.append(i)\n",
        "\n",
        "ans.sort()\n",
        "\n",
        "for i in range(len(ans)):\n",
        "    count = l.count(ans[i])\n",
        "    print( i+1 ,\"=\", count)\n",
        "\n"
      ],
      "metadata": {
        "id": "Dm0dAivtW7vQ",
        "colab": {
          "base_uri": "https://localhost:8080/"
        },
        "outputId": "58204969-771f-40bf-a792-a7e047d1acab"
      },
      "execution_count": 96,
      "outputs": [
        {
          "output_type": "stream",
          "name": "stdout",
          "text": [
            "1 = 5\n",
            "2 = 4\n",
            "3 = 3\n",
            "4 = 2\n",
            "5 = 1\n"
          ]
        }
      ]
    },
    {
      "cell_type": "markdown",
      "source": [
        "1.\tเขียนโปรแกรมเพื่อหาผลบวกของอนุกรม 5+10+15+20+… จนถึง n เมื่อ n เป็นตัวเลขที่รับเข้ามาทางคีย์บอร์ด"
      ],
      "metadata": {
        "id": "GgbgWOV6W8Nn"
      }
    },
    {
      "cell_type": "code",
      "source": [
        "n = int(input(\"\"))\n",
        "x = 1\n",
        "a = 0\n",
        "sum = 0\n",
        "while x < n + 1:\n",
        "    a = int(x * 5)\n",
        "    sum += a\n",
        "    x += 1\n",
        "print(sum)\n",
        "\n"
      ],
      "metadata": {
        "id": "9cCHZsLhXGKm",
        "colab": {
          "base_uri": "https://localhost:8080/"
        },
        "outputId": "bf1251f5-13db-4674-edf6-9a04a0842614"
      },
      "execution_count": 6,
      "outputs": [
        {
          "output_type": "stream",
          "name": "stdout",
          "text": [
            "50\n",
            "6375\n"
          ]
        }
      ]
    },
    {
      "cell_type": "markdown",
      "source": [
        "2.\tจงเขียนโปรแกรมที่จะหาตัวเลขระหว่าง 2000-3200 ที่หารด้วย 7 ลงตัว แต่หารด้วย 5 ไม่ลงตัว\n",
        "การแสดงผลให้แสดงตัวเลขและคั่นด้วยเครื่องหมาย , ในบรรทัดเดียว\n",
        "\n",
        "2002,2009,2016,2023,2037,2044,2051,2058,2072,2079,2086,2093,2107,2114,2121,2128,2142,2149,2156,2163,2177,2184,2191,2198,2212,2219,2226,2233,2247,2254,2261,2268,2282,2289,2296,2303,2317,2324,2331,2338,2352,2359,2366,2373,2387,2394,2401,2408,2422,2429,2436,2443,2457,2464,2471,2478,2492,2499,2506,2513,2527,2534,2541,2548,2562,2569,2576,2583,2597,2604,2611,2618,2632,2639,2646,2653,2667,2674,2681,2688,2702,2709,2716,2723,2737,2744,2751,2758,2772,2779,2786,2793,2807,2814,2821,2828,2842,2849,2856,2863,2877,2884,2891,2898,2912,2919,2926,2933,2947,2954,2961,2968,2982,2989,2996,3003,3017,3024,3031,3038,3052,3059,3066,3073,3087,3094,3101,3108,3122,3129,3136,3143,3157,3164,3171,3178,3192,3199,"
      ],
      "metadata": {
        "id": "aujapFNTXGsV"
      }
    },
    {
      "cell_type": "code",
      "source": [
        "for i in range(2000,3201) :\n",
        "    if i % 7 == 0 and i % 5 != 0:\n",
        "        print(f\"{i},\", end=\"\")"
      ],
      "metadata": {
        "id": "L-kIF3-nXJqR",
        "colab": {
          "base_uri": "https://localhost:8080/"
        },
        "outputId": "74599d8d-59ed-4518-e78a-2e779d90bc29"
      },
      "execution_count": 4,
      "outputs": [
        {
          "output_type": "stream",
          "name": "stdout",
          "text": [
            "2002,2009,2016,2023,2037,2044,2051,2058,2072,2079,2086,2093,2107,2114,2121,2128,2142,2149,2156,2163,2177,2184,2191,2198,2212,2219,2226,2233,2247,2254,2261,2268,2282,2289,2296,2303,2317,2324,2331,2338,2352,2359,2366,2373,2387,2394,2401,2408,2422,2429,2436,2443,2457,2464,2471,2478,2492,2499,2506,2513,2527,2534,2541,2548,2562,2569,2576,2583,2597,2604,2611,2618,2632,2639,2646,2653,2667,2674,2681,2688,2702,2709,2716,2723,2737,2744,2751,2758,2772,2779,2786,2793,2807,2814,2821,2828,2842,2849,2856,2863,2877,2884,2891,2898,2912,2919,2926,2933,2947,2954,2961,2968,2982,2989,2996,3003,3017,3024,3031,3038,3052,3059,3066,3073,3087,3094,3101,3108,3122,3129,3136,3143,3157,3164,3171,3178,3192,3199,"
          ]
        }
      ]
    },
    {
      "cell_type": "markdown",
      "source": [
        "3.\tจากข้อมูลใน List ต้องการนับว่า มีข้อมูลกี่คู่ในลิสต์ที่ตัวทางซ้ายมีค่ามากกว่าตัวทางขวา (ไม่จำเป็นต้องอยู่ติดกัน)\n",
        "\n",
        "x = [1, 5, 4, 2, 1]"
      ],
      "metadata": {
        "id": "FCZpmtuFXKUl"
      }
    },
    {
      "cell_type": "code",
      "source": [
        "x = [1, 5, 4, 2, 1]\n",
        "c = 0\n",
        "for i in range(len(x)):\n",
        "  # print(f'รอบที่ {i}')\n",
        "  for j in range(i+1 ,len(x)):\n",
        "    # print(f'{x[i]} : {x[j]} is {x[i] > x[j]}')\n",
        "    if x[i] > x[j]:\n",
        "        # c = c + 1\n",
        "        c += 1\n",
        "print(c)"
      ],
      "metadata": {
        "id": "VBgfWEXuXjQH",
        "colab": {
          "base_uri": "https://localhost:8080/"
        },
        "outputId": "0ab6a3f8-05c0-4542-9820-119f8b581713"
      },
      "execution_count": 15,
      "outputs": [
        {
          "output_type": "stream",
          "name": "stdout",
          "text": [
            "6\n"
          ]
        }
      ]
    },
    {
      "cell_type": "markdown",
      "source": [
        "4.\tให้ตรวจสอบว่า String ที่รับเข้ามาผ่านคีย์บอร์ด เป็นตัวอักษรพิมพ์เล็ก หรือตัวอักษรพิมพ์ใหญ่ อย่างละกี่ตัว ตอบ 2 บรรทัด พิมพ์เล็ก 1 บรรทัด พิมพ์ใหญ่ 1 บรรทัด\n",
        "\n",
        "klfjslkgD;FGK;LSDKdl;gfk;\n",
        "=> 18,3"
      ],
      "metadata": {
        "id": "UAEC1_jdXjya"
      }
    },
    {
      "cell_type": "code",
      "source": [
        "x = input(\"\")\n",
        "\n",
        "c = 0\n",
        "c1 = 0\n",
        "for i in range(len(x)):\n",
        "    if x[i].isupper():\n",
        "        c += 1\n",
        "    else:\n",
        "        c1 += 1\n",
        "\n",
        "print(f\"พิมพ์ใหญ่ = {c}\")\n",
        "print(f\"พิมพ์เล็ก = {c1}\")\n"
      ],
      "metadata": {
        "id": "rSYwEhjEYY8N",
        "colab": {
          "base_uri": "https://localhost:8080/"
        },
        "outputId": "faece2dc-16e0-49f8-9862-27707fa37192"
      },
      "execution_count": 39,
      "outputs": [
        {
          "output_type": "stream",
          "name": "stdout",
          "text": [
            "DDDppp\n",
            "พิมพ์ใหญ่ = 3\n",
            "พิมพ์เล็ก = 3\n"
          ]
        }
      ]
    },
    {
      "cell_type": "markdown",
      "source": [
        "5.\tจงเขียนโปรแกรมที่หาตัวเลขระหว่าง 1000 และ 3000 ที่ทุกหลักเป็นเลขคู่ (รวม 1000 และ 3000) โดยแสดงผลในรูปแบบตัวเลขคั่นด้วย comma\n",
        "\n",
        "2000,2002,2004,2006,2008,2020,2022,2024,2026,2028,2040,2042,2044,2046,2048,2060,2062,2064,2066,2068,2080,2082,2084,2086,2088,2200,2202,2204,2206,2208,2220,2222,2224,2226,2228,2240,2242,2244,2246,2248,2260,2262,2264,2266,2268,2280,2282,2284,2286,2288,2400,2402,2404,2406,2408,2420,2422,2424,2426,2428,2440,2442,2444,2446,2448,2460,2462,2464,2466,2468,2480,2482,2484,2486,2488,2600,2602,2604,2606,2608,2620,2622,2624,2626,2628,2640,2642,2644,2646,2648,2660,2662,2664,2666,2668,2680,2682,2684,2686,2688,2800,2802,2804,2806,2808,2820,2822,2824,2826,2828,2840,2842,2844,2846,2848,2860,2862,2864,2866,2868,2880,2882,2884,2886,2888,"
      ],
      "metadata": {
        "id": "lBtvmw_sYYX_"
      }
    },
    {
      "cell_type": "code",
      "source": [
        "X = [\"1\",\"3\",\"5\",\"7\",\"9\"]\n",
        "ans = \"\"\n",
        "for i in range(1000,3001):\n",
        "    string = str(i)\n",
        "    for j in string :\n",
        "        if( j not in str(X)):\n",
        "            ans += j\n",
        "    if(len(ans) == 4 and (i%2 ==0)):\n",
        "        print(string ,end=\",\")\n",
        "    ans = \"\""
      ],
      "metadata": {
        "id": "VvChTQMjYqYi",
        "colab": {
          "base_uri": "https://localhost:8080/"
        },
        "outputId": "0166c39a-0ac8-4825-f512-9eee0f12f1b2"
      },
      "execution_count": 54,
      "outputs": [
        {
          "output_type": "stream",
          "name": "stdout",
          "text": [
            "2000,2002,2004,2006,2008,2020,2022,2024,2026,2028,2040,2042,2044,2046,2048,2060,2062,2064,2066,2068,2080,2082,2084,2086,2088,2200,2202,2204,2206,2208,2220,2222,2224,2226,2228,2240,2242,2244,2246,2248,2260,2262,2264,2266,2268,2280,2282,2284,2286,2288,2400,2402,2404,2406,2408,2420,2422,2424,2426,2428,2440,2442,2444,2446,2448,2460,2462,2464,2466,2468,2480,2482,2484,2486,2488,2600,2602,2604,2606,2608,2620,2622,2624,2626,2628,2640,2642,2644,2646,2648,2660,2662,2664,2666,2668,2680,2682,2684,2686,2688,2800,2802,2804,2806,2808,2820,2822,2824,2826,2828,2840,2842,2844,2846,2848,2860,2862,2864,2866,2868,2880,2882,2884,2886,2888,"
          ]
        }
      ]
    },
    {
      "cell_type": "markdown",
      "source": [
        "6.\tในคณิตศาสตร์ ตัวหารร่วมมาก หรือ ห.ร.ม. (greatest common divisor: gcd) ของจำนวนเต็มสองจำนวนซึ่งไม่เป็นศูนย์พร้อมกัน คือจำนวนเต็มที่มากที่สุดที่หารทั้งสองจำนวนลงตัว\n",
        "จงหา ห.ร.ม. ของจำนวนเต็ม 2 จำนวนที่กำหนดให้\n",
        "ข้อมูลนำเข้า\n",
        "บรรทัดแรกเพียงบรรทัดเดียว ประกอบไปด้วยจำนวนเต็มบวกสองจำนวน a และ b มีค่าไม่เกิน 9999\n",
        "ข้อมูลส่งออก\n",
        "ในบรรทัดแรกของข้อมูลส่งออก ให้แสดงค่า ห.ร.ม. ของ a และ b\n",
        "เช่น \tInput : 12 14\t\tOutput : 2\n",
        "\tInput : 7 3\t\tOutput : 1\n",
        "\n",
        "678\n",
        "345\n",
        "=> 3"
      ],
      "metadata": {
        "id": "6TCedRC8YqyU"
      }
    },
    {
      "cell_type": "code",
      "source": [
        "a, b = [int (e) for e in input(\"\").split()]\n",
        "h = 0\n",
        "\n",
        "for i in range(1,1000) :\n",
        "  if a % i == 0 and b % i == 0:\n",
        "     h = i\n",
        "\n",
        "print(f\"Input = {a} {b} Output = {h}\")\n"
      ],
      "metadata": {
        "id": "yrD4p2Q6Y6qr",
        "colab": {
          "base_uri": "https://localhost:8080/"
        },
        "outputId": "55268e82-2be7-4cf8-fff5-c705da417c65"
      },
      "execution_count": 79,
      "outputs": [
        {
          "output_type": "stream",
          "name": "stdout",
          "text": [
            "100 50\n",
            "Input = 100 50 Output = 50\n"
          ]
        }
      ]
    },
    {
      "cell_type": "markdown",
      "source": [
        "7.\tจงเขียนโปรแกรมที่คำนวณค่าของ a+aa+aaa+aaaa เมื่อรับข้อมูลเป็นตัวเลข 1 หลัก\n",
        "\n",
        "Input : 9\n",
        "\n",
        "Output : 11106 (=9+99+999+9999)\n"
      ],
      "metadata": {
        "id": "DW9riUdiY7KK"
      }
    },
    {
      "cell_type": "code",
      "source": [
        "from re import A\n",
        "# x=int(input(\"\"))\n",
        "# a1 = x*1\n",
        "# a2 = x*11\n",
        "# a3 = x*111\n",
        "# a4 = x*1111\n",
        "# sum = a1+a2+a3+a4\n",
        "# print(sum)\n",
        "\n",
        "a = input(\"\")\n",
        "total = 0\n",
        "sum = 0\n",
        "my_list = []\n",
        "for i in range(1,5) :\n",
        "    my_list.append(a*i)\n",
        "for j in my_list :\n",
        "    total += int(j)\n",
        "print(f\"{total}={a*1}+{a*2}+{a*3}+{a*4}\")"
      ],
      "metadata": {
        "id": "iAZlPfC4Y-GG"
      },
      "execution_count": null,
      "outputs": []
    },
    {
      "cell_type": "markdown",
      "source": [
        "8.\tแปลงเลขโรมัน เป็นเลขอารบิก เช่น MMMDCCXXIV = 3724 (ค้นหาวิธีทางทางอินเตอร์เน็ต)\n"
      ],
      "metadata": {
        "id": "G3jPCyruZAZY"
      }
    },
    {
      "cell_type": "code",
      "source": [
        "x = input(\"กรุณาใส่เลขโรมัน: \")\n",
        "sum = 0\n",
        "i = 0\n",
        "while i < len(x):\n",
        "    if x[i] == 'M':\n",
        "        sum += 1000\n",
        "    elif x[i] == 'D':\n",
        "        if i + 1 < len(x) and x[i + 1] == 'M':\n",
        "            sum += 900\n",
        "            i += 1\n",
        "        else:\n",
        "            sum += 500\n",
        "    elif x[i] == 'C':\n",
        "        if i + 1 < len(x) and x[i + 1] == 'D':\n",
        "            sum += 400\n",
        "            i += 1\n",
        "        else:\n",
        "            sum += 100\n",
        "    elif x[i] == 'L':\n",
        "        sum += 50\n",
        "    elif x[i] == 'X':\n",
        "        if i + 1 < len(x) and x[i + 1] == 'L':\n",
        "            sum += 40\n",
        "            i += 1\n",
        "        else:\n",
        "            sum += 10\n",
        "    elif x[i] == 'V':\n",
        "        sum += 5\n",
        "    elif x[i] == 'I':\n",
        "        if i + 1 < len(x) and x[i + 1] == 'X':\n",
        "            sum += 9\n",
        "            i += 1\n",
        "        elif i + 1 < len(x) and x[i + 1] == 'V':\n",
        "            sum += 4\n",
        "            i += 1\n",
        "        else:\n",
        "            sum += 1\n",
        "    i += 1\n",
        "\n",
        "print(f\"{sum}\")"
      ],
      "metadata": {
        "id": "6RBWGF4IZGnc",
        "colab": {
          "base_uri": "https://localhost:8080/"
        },
        "outputId": "3ca3f794-2500-4805-9bb0-c627acedbb76"
      },
      "execution_count": 43,
      "outputs": [
        {
          "output_type": "stream",
          "name": "stdout",
          "text": [
            "กรุณาใส่เลขโรมัน: MMMDCCXXIV\n",
            "ค่าที่แปลงเป็นตัวเลข: 3724\n"
          ]
        }
      ]
    },
    {
      "cell_type": "markdown",
      "source": [
        "9.\tอนุกรม Fibonacci คือ อนุกรมที่ตัวที่ 3 เป็นต้นไปเกิดจาก 2 ตัวหน้าบวกกัน จงเขียนโปรแกรมแสดงอนุกรม\n",
        "เช่น ตั้งแต่ 0-1000 คือ 0, 1, 1, 2, 3, 5, 8, 13, 21, 34, 55, 89, 144, 233, 377, 610, 987\n"
      ],
      "metadata": {
        "id": "SJBVkaFHZHKe"
      }
    },
    {
      "cell_type": "code",
      "source": [
        "lst = [0, 1]\n",
        "l1 = lst[-1] + lst[-2]\n",
        "while l1 < 1000:\n",
        "    lst.append(l1)\n",
        "    l1 = lst[-1] + lst[-2]\n",
        "print(lst)"
      ],
      "metadata": {
        "id": "Vdtc9KqSZLls",
        "colab": {
          "base_uri": "https://localhost:8080/"
        },
        "outputId": "e19fae16-05b3-4df1-e9d0-69e0d26feb6d"
      },
      "execution_count": 55,
      "outputs": [
        {
          "output_type": "stream",
          "name": "stdout",
          "text": [
            "[0, 1, 1, 2, 3, 5, 8, 13, 21, 34, 55, 89, 144, 233, 377, 610, 987]\n"
          ]
        }
      ]
    },
    {
      "cell_type": "markdown",
      "source": [
        "10.\tให้สร้างโปรแกรม True Love โดยรับชื่อภาษาอังกฤษของ 2 คน จากนั้นค้นหาว่ามีตัวอักษรอยู่ในคำว่า True และ Love รวมกันกี่ตัว จากนั้นนำมาต่อกันเป็น % ตามรูป (ไม่ต้องแสดงเครื่องหมาย %)"
      ],
      "metadata": {
        "id": "1ykDG1H4ZKd4"
      }
    },
    {
      "cell_type": "code",
      "source": [
        "name1 = input(\"ชื่อคนแรก: \")\n",
        "name2 = input(\"ชื่อคนที่สอง: \")\n",
        "combined_name = name1 + name2\n",
        "\n",
        "c = 0\n",
        "c1 = 0\n",
        "i = 0\n",
        "\n",
        "\n",
        "while i < len(combined_name):\n",
        "    if combined_name[i].upper() == 'T':\n",
        "        c += 1\n",
        "    if combined_name[i].upper() == 'R':\n",
        "        c += 1\n",
        "    if combined_name[i].upper() == 'U':\n",
        "        c += 1\n",
        "    if combined_name[i].upper() == 'E':\n",
        "        c += 1\n",
        "    i += 1\n",
        "\n",
        "\n",
        "i = 0\n",
        "\n",
        "\n",
        "while i < len(combined_name):\n",
        "    if combined_name[i].upper() == 'L':\n",
        "        c1 += 1\n",
        "    if combined_name[i].upper() == 'O':\n",
        "        c1 += 1\n",
        "    if combined_name[i].upper() == 'V':\n",
        "        c1 += 1\n",
        "    if combined_name[i].upper() == 'E':\n",
        "        c1 += 1\n",
        "    i += 1\n",
        "\n",
        "\n",
        "print(f\"{c}{c1}\")"
      ],
      "metadata": {
        "id": "syOZPpj2ZPaA",
        "colab": {
          "base_uri": "https://localhost:8080/"
        },
        "outputId": "8d790fd3-446d-405c-f92f-b261ac454d7a"
      },
      "execution_count": 49,
      "outputs": [
        {
          "output_type": "stream",
          "name": "stdout",
          "text": [
            "ชื่อคนแรก: TTTT\n",
            "ชื่อคนที่สอง: EEE\n",
            "73\n"
          ]
        }
      ]
    }
  ]
}