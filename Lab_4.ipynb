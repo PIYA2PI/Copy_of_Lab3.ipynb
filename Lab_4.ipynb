{
  "nbformat": 4,
  "nbformat_minor": 0,
  "metadata": {
    "colab": {
      "provenance": [],
      "include_colab_link": true
    },
    "kernelspec": {
      "name": "python3",
      "display_name": "Python 3"
    },
    "language_info": {
      "name": "python"
    }
  },
  "cells": [
    {
      "cell_type": "markdown",
      "metadata": {
        "id": "view-in-github",
        "colab_type": "text"
      },
      "source": [
        "<a href=\"https://colab.research.google.com/github/PIYA2PI/Copy_of_Lab3.ipynb/blob/main/Lab_4.ipynb\" target=\"_parent\"><img src=\"https://colab.research.google.com/assets/colab-badge.svg\" alt=\"Open In Colab\"/></a>"
      ]
    },
    {
      "cell_type": "markdown",
      "source": [
        "4.1 2520 คือ ตัวเลขที่น้อยที่สุด ที่สามารถหารด้วยตัวเลขทุกตัวตั้งแต่ 1-10 จงหาจำนวนเต็มบวกที่น้อยที่สุดที่หารด้วยตัวเลขทุกตัวตั้งแต่ 1-20\n",
        "\n",
        "15 = 360360\n",
        "\n",
        "20 = 232792560\n",
        "\n",
        "ปล. ห้าม import math"
      ],
      "metadata": {
        "id": "-bpz7hteQPdz"
      }
    },
    {
      "cell_type": "code",
      "execution_count": null,
      "metadata": {
        "id": "HSZUXcF2QMVn",
        "outputId": "dc7aae20-739b-4e81-a13f-94e5b542db6f",
        "colab": {
          "base_uri": "https://localhost:8080/"
        }
      },
      "outputs": [
        {
          "output_type": "stream",
          "name": "stdout",
          "text": [
            "232792560\n"
          ]
        }
      ],
      "source": [
        "result = 1\n",
        "\n",
        "for i in range(2, 21):\n",
        "    a, b = result, i\n",
        "    while b != 0:\n",
        "        a, b = b, a % b\n",
        "\n",
        "\n",
        "    gcd = a\n",
        "    result = (result * i) // gcd\n",
        "\n",
        "print(result)"
      ]
    },
    {
      "cell_type": "markdown",
      "source": [
        "4.2 จำนวนเฉพาะ (Prime Number) คือตัวเลขที่มีแต่ 1 กับตัวมันเองที่หารลงตัว โดยจำนวนเฉพาะ 6 ตัวแรกคือ 2, 3, 5, 7, 11, 13 โดยจำนวนเฉพาะตัวที่ 6 คือ 13 จงหาจำนวนเฉพาะตัวที่ 101\n",
        "\n",
        "=> 547"
      ],
      "metadata": {
        "id": "Wq1EFYHUWNOA"
      }
    },
    {
      "cell_type": "code",
      "source": [
        "count = 0\n",
        "num = 2\n",
        "\n",
        "while count < 101:\n",
        "    is_p = True\n",
        "    for i in range(2, int(num**0.5) + 1):\n",
        "        if num % i == 0:\n",
        "            is_p = False\n",
        "            break\n",
        "\n",
        "    if is_p:\n",
        "        count += 1\n",
        "\n",
        "    if count == 101:\n",
        "        print(num)\n",
        "    num += 1"
      ],
      "metadata": {
        "colab": {
          "base_uri": "https://localhost:8080/"
        },
        "id": "cpMa6Vp0Vz_L",
        "outputId": "1076b28e-a23f-4539-ed48-ad450fde725f"
      },
      "execution_count": null,
      "outputs": [
        {
          "output_type": "stream",
          "name": "stdout",
          "text": [
            "547\n"
          ]
        }
      ]
    },
    {
      "cell_type": "markdown",
      "source": [
        "1.\tกำหนดให้มี List หนึ่งประกอบด้วยตัวเลขจำนวนหนึ่ง และ ให้รับตัวเลขจำนวน 1 จำนวน จากนั้นให้หาว่าใน List มีตัวเลข 2 จำนวนใดที่บวกกันเท่ากับตัวเลขที่รับมา ให้แสดงคำตอบเป็น List เช่น Output: [0,1] โดยอาจมีมากกว่า 1 คำตอบ\n",
        "\n",
        "ตัวอย่าง list : [2, 7, 11, 15]\n",
        "\n",
        "Input : 9\n",
        "\n",
        "Output : 2 + 7 = 9 (ถ้าไม่มีให้บอก None)\n"
      ],
      "metadata": {
        "id": "-pUpw-m_WqFG"
      }
    },
    {
      "cell_type": "code",
      "source": [
        "numbers = [2, 7, 11, 15]\n",
        "target = int(input(\"Input: \"))\n",
        "results = []\n",
        "\n",
        "  for i in range(len(numbers)):\n",
        "      for j in range(i + 1, len(numbers)):\n",
        "          if numbers[i] + numbers[j] == target:\n",
        "              results.append([i, j])\n",
        "\n",
        "  if results:\n",
        "      for result in results:\n",
        "          print(f\"{numbers[result[0]]} + {numbers[result[1]]} = {target}\")\n",
        "  else:\n",
        "      print(\"None\")"
      ],
      "metadata": {
        "id": "s3djwBi4ks1g",
        "colab": {
          "base_uri": "https://localhost:8080/"
        },
        "outputId": "e3ec61f5-586e-45dc-c979-77613f6408b1"
      },
      "execution_count": null,
      "outputs": [
        {
          "output_type": "stream",
          "name": "stdout",
          "text": [
            "Input: 9\n",
            "2 + 7 = 9\n"
          ]
        }
      ]
    },
    {
      "cell_type": "markdown",
      "source": [
        "2.\tให้เขียนโปรแกรมรับข้อมูล 1 บรรทัด ประกอบด้วยตัวเลข 1 หลัก จำนวนไม่เกิน 10 ตัว คั่นด้วยช่องว่าง จากนั้นให้นำตัวเลขที่รับเข้ามาเรียงกัน และหาลำดับการเรียงที่ทำให้มีค่าน้อยที่สุด โดยต้องไม่ขึ้นต้นด้วย 0\n",
        "\n",
        "Input : 9 4 6 2  \n",
        "\n",
        "คำตอบ 2469\n",
        "\n",
        "Input : 3 0 8 1 3 3\n",
        "\n",
        "คำตอบ : 103338\n"
      ],
      "metadata": {
        "id": "_3yLG291lSFy"
      }
    },
    {
      "cell_type": "code",
      "source": [
        "input_str = input(\"Input: \")\n",
        "numbers = input_str.split()\n",
        "zeros = []\n",
        "non_zeros = []\n",
        "\n",
        "for num in numbers:\n",
        "    if num == '0':\n",
        "        zeros.append(num)\n",
        "    else:\n",
        "        non_zeros.append(num)\n",
        "\n",
        "\n",
        "for i in range(len(non_zeros)):\n",
        "    for j in range(i + 1, len(non_zeros)):\n",
        "        if non_zeros[j] < non_zeros[i]:\n",
        "            non_zeros[i], non_zeros[j] = non_zeros[j], non_zeros[i]\n",
        "\n",
        "\n",
        "if not non_zeros:\n",
        "    result = '0'\n",
        "else:\n",
        "    result = ''.join(non_zeros) + ''.join(zeros)\n",
        "\n",
        "print(result)"
      ],
      "metadata": {
        "id": "ACtXvMEyli0L",
        "colab": {
          "base_uri": "https://localhost:8080/"
        },
        "outputId": "80925494-a034-45b3-ea7f-4eb403ce5f48"
      },
      "execution_count": null,
      "outputs": [
        {
          "output_type": "stream",
          "name": "stdout",
          "text": [
            "Input: 9 4 6 2\n",
            "2469\n"
          ]
        }
      ]
    },
    {
      "cell_type": "markdown",
      "source": [
        "3.\tจากตัวเลขต่อไปนี้ ตัวเลขติดกัน 4 ตัวที่เมื่อนำมาคูณกันแล้วมีค่ามากที่สุดคือ 9 × 9 × 8 × 9 = 5832\n",
        "\n",
        "73167176531330624919225119674426574742355349194934\n",
        "96983520312774506326239578318016984801869478851843\n",
        "85861560789112949495459501737958331952853208805511\n",
        "12540698747158523863050715693290963295227443043557\n",
        "66896648950445244523161731856403098711121722383113\n",
        "62229893423380308135336276614282806444486645238749\n",
        "30358907296290491560440772390713810515859307960866\n",
        "70172427121883998797908792274921901699720888093776\n",
        "65727333001053367881220235421809751254540594752243\n",
        "52584907711670556013604839586446706324415722155397\n",
        "53697817977846174064955149290862569321978468622482\n",
        "83972241375657056057490261407972968652414535100474\n",
        "82166370484403199890008895243450658541227588666881\n",
        "16427171479924442928230863465674813919123162824586\n",
        "17866458359124566529476545682848912883142607690042\n",
        "24219022671055626321111109370544217506941658960408\n",
        "07198403850962455444362981230987879927244284909188\n",
        "84580156166097919133875499200524063689912560717606\n",
        "05886116467109405077541002256983155200055935729725\n",
        "71636269561882670428252483600823257530420752963450\n",
        "\n",
        "จงหาเลขติดกัน 8 ตัวที่เมื่อนำมาคูณกันแล้วมีค่ามากที่สุด และเป็นเลขอะไร ผลคูณเท่ากับเท่าไร\n",
        "\n",
        "The maximum product is: 7838208\n",
        "The digits are: 88399879\n",
        "\n",
        "\n",
        "\n"
      ],
      "metadata": {
        "id": "Gv8aIY7dliSY"
      }
    },
    {
      "cell_type": "code",
      "source": [
        "number = (\"73167176531330624919225119674426574742355349194934\"\n",
        "    \"96983520312774506326239578318016984801869478851843\"\n",
        "    \"85861560789112949495459501737958331952853208805511\"\n",
        "    \"12540698747158523863050715693290963295227443043557\"\n",
        "    \"66896648950445244523161731856403098711121722383113\"\n",
        "    \"62229893423380308135336276614282806444486645238749\"\n",
        "    \"30358907296290491560440772390713810515859307960866\"\n",
        "    \"70172427121883998797908792274921901699720888093776\"\n",
        "    \"65727333001053367881220235421809751254540594752243\"\n",
        "    \"52584907711670556013604839586446706324415722155397\"\n",
        "    \"53697817977846174064955149290862569321978468622482\"\n",
        "    \"83972241375657056057490261407972968652414535100474\"\n",
        "    \"82166370484403199890008895243450658541227588666881\"\n",
        "    \"16427171479924442928230863465674813919123162824586\"\n",
        "    \"17866458359124566529476545682848912883142607690042\"\n",
        "    \"24219022671055626321111109370544217506941658960408\"\n",
        "    \"07198403850962455444362981230987879927244284909188\"\n",
        "    \"84580156166097919133875499200524063689912560717606\"\n",
        "    \"05886116467109405077541002256983155200055935729725\"\n",
        "    \"71636269561882670428252483600823257530420752963450\")\n",
        "\n",
        "max_product = 0\n",
        "max_digits = \"\"\n",
        "\n",
        "for i in range(len(number) - 7):\n",
        "    digits = number[i:i + 8]\n",
        "    product = 1\n",
        "\n",
        "    for digit in digits:\n",
        "        product *= int(digit)\n",
        "\n",
        "\n",
        "    if product > max_product:\n",
        "        max_product = product\n",
        "        max_digits = digits\n",
        "\n",
        "print(f\"The maximum product is: {max_product} The digits are: {max_digits}\")"
      ],
      "metadata": {
        "id": "wvVqGMknmBu5",
        "outputId": "859aa690-59b3-4362-9e8b-6e782369431b",
        "colab": {
          "base_uri": "https://localhost:8080/"
        }
      },
      "execution_count": null,
      "outputs": [
        {
          "output_type": "stream",
          "name": "stdout",
          "text": [
            "The maximum product is: 7838208 The digits are: 88399879\n"
          ]
        }
      ]
    },
    {
      "cell_type": "markdown",
      "source": [
        "4.\tตัวเลข palindrome คือตัวเลขที่อ่านได้ทั้ง 2 ทาง แล้วมีค่าเท่ากัน เช่น 9009 โดย 9009 คือ palindrome ที่เกิดจากการคูณของตัวเลข 2 หลักที่มากที่สุด คือ 91x99 จงหา palindrome ที่มากที่สุดของตัวเลข 3 หลัก\n",
        "\n",
        "The largest palindrome product of 3-digit numbers is: 906609\n"
      ],
      "metadata": {
        "id": "fjy5LNC7m0We"
      }
    },
    {
      "cell_type": "code",
      "source": [
        "min_num = 100\n",
        "max_num = 999\n",
        "largest_palindrome = 0\n",
        "factor1 = 0\n",
        "factor2 = 0\n",
        "\n",
        "for i in range(max_num, min_num - 1, -1):\n",
        "    for j in range(i, min_num - 1, -1):\n",
        "        product = i * j\n",
        "        product_str = str(product)\n",
        "        if product_str == product_str[::-1]:\n",
        "            if product > largest_palindrome:\n",
        "                largest_palindrome = product\n",
        "                factor1 = i\n",
        "                factor2 = j\n",
        "\n",
        "print(largest_palindrome)"
      ],
      "metadata": {
        "id": "y-QY3hzVmsud",
        "colab": {
          "base_uri": "https://localhost:8080/"
        },
        "outputId": "c075bbd8-7c95-4861-826a-f8c971efcb40"
      },
      "execution_count": null,
      "outputs": [
        {
          "output_type": "stream",
          "name": "stdout",
          "text": [
            "906609\n"
          ]
        }
      ]
    },
    {
      "cell_type": "markdown",
      "source": [
        "5.\tกำหนดให้ string มีเพียงสัญลักษณ์ '(', ')', '{', '}', '[' และ ']' ให้ตรวจสอบว่า String ถูกต้อง โดย เมื่อมีวงเล็บเปิด จะต้องมีวงเล็บปิดที่เป็นชนิดเดียวกัน จำนวนเท่ากันที่เป็นคู่ของมัน\n",
        "\n",
        "```\n",
        "Input: s = \"()\"\n",
        "Output: true\n",
        "Input: s = \"()[]{}\"\n",
        "Output: true\n",
        "Input: s = \"[()]{}\"\n",
        "Output: true\n",
        "Input: s = \"(]\"\n",
        "Output: false\n",
        "```\n",
        "\n",
        "\n"
      ],
      "metadata": {
        "id": "rUZvLJ-JnGJY"
      }
    },
    {
      "cell_type": "code",
      "source": [
        "s = input(\" \")\n",
        "brackets = {')': '(', '}': '{', ']': '['}\n",
        "stack = []\n",
        "\n",
        "valid = True\n",
        "for char in s:\n",
        "    if char in brackets.values():\n",
        "        stack.append(char)\n",
        "    elif char in brackets.keys():\n",
        "        if stack and stack[-1] == brackets[char]:\n",
        "            stack.pop()\n",
        "        else:\n",
        "            valid = False\n",
        "            break\n",
        "\n",
        "if stack:\n",
        "    valid = False\n",
        "\n",
        "print(valid)"
      ],
      "metadata": {
        "id": "Ku8ts4x7nk1y",
        "colab": {
          "base_uri": "https://localhost:8080/"
        },
        "outputId": "d7d407fe-aa37-4963-d0e3-8ad4bec7c82a"
      },
      "execution_count": null,
      "outputs": [
        {
          "output_type": "stream",
          "name": "stdout",
          "text": [
            " (]\n",
            "False\n"
          ]
        }
      ]
    },
    {
      "cell_type": "markdown",
      "source": [
        "6.\tกำหนดให้รับข้อมูล Integer (เป็นบวกหรือลบก็ได้) จากนั้นให้แสดงผลลัพธ์ที่ reverse ตัวเลขตามตัวอย่าง\n",
        "\n",
        "```\n",
        "Input: x = 123\n",
        "Output: 321\n",
        "Input: x = -123\n",
        "Output: -321\n",
        "Input: x = 120\n",
        "Output: 21\n",
        "```\n",
        "\n"
      ],
      "metadata": {
        "id": "PLL9Wdqqnx7o"
      }
    },
    {
      "cell_type": "code",
      "source": [
        "x = int(input(\" \"))\n",
        "is_negative = x < 0\n",
        "x_abs = abs(x)\n",
        "x_str = str(x_abs)\n",
        "reversed_str = ''\n",
        "for char in x_str:\n",
        "        reversed_str = char + reversed_str\n",
        "        reversed_num = int(reversed_str)\n",
        "if is_negative:\n",
        "        reversed_num = -reversed_num\n",
        "print(f\"Output:{reversed_num}\")"
      ],
      "metadata": {
        "id": "w6WRXZzEziDy",
        "colab": {
          "base_uri": "https://localhost:8080/"
        },
        "outputId": "73b8c825-f523-4e4e-bc18-c3f52a62372e"
      },
      "execution_count": null,
      "outputs": [
        {
          "output_type": "stream",
          "name": "stdout",
          "text": [
            " 120\n",
            "Output:21\n"
          ]
        }
      ]
    },
    {
      "cell_type": "markdown",
      "source": [
        "7.\tเขียนโปรแกรมเพื่อแสดงปิรามิดบนจอภาพ โดยแสดงเป็นรูปสี่เหลี่ยม ตัวเลขเริ่มจาก 0  และเพิ่มค่าตามลําดับจํานวนขั้น จาก 0 ถึง N (รับค่า N จากคีย์บอร์ด) ค่าของ N อยู่ระหว่าง 0-9 ดังตัวอย่าง\n",
        "\n",
        "\n",
        "```\n",
        "\t\t\t\t\t\t\t\t\t         0000000\n",
        "\t\t\t\t\t\t\t    00000\t\t0111110\n",
        "\t\t\t\t\t000\t\t 01110\t\t0122210\n",
        "\t\t\t0\t\t010\t\t01210\t\t0123210\n",
        "\t\t\t\t\t000\t\t 01110\t\t0122210\n",
        "\t\t\t\t\t\t\t    00000\t\t0111110\n",
        "\t\t\t\t\t\t\t\t\t         0000000\n",
        "\n",
        "\t\t\tn=0\t\tn=1\t\tn=2\t\tn=3\n",
        "\n",
        "```\n",
        "\n"
      ],
      "metadata": {
        "id": "KboD6c8rn52a"
      }
    },
    {
      "cell_type": "code",
      "source": [
        "n = int(input(\"\"))\n",
        "x1 = -n\n",
        "x2 = n\n",
        "y1 = n\n",
        "y2 = -n\n",
        "\n",
        "for row in range(y1,y2 - 1 , -1) :\n",
        "  for col in range(x1,x2 + 1) :\n",
        "      print(n - max (abs(row),abs(col)),end=\"\")\n",
        "  print(\"\")"
      ],
      "metadata": {
        "id": "sGhw6Iyfobiz",
        "colab": {
          "base_uri": "https://localhost:8080/"
        },
        "outputId": "d913c964-b72a-45f4-feae-0c0cf6b691e0"
      },
      "execution_count": null,
      "outputs": [
        {
          "output_type": "stream",
          "name": "stdout",
          "text": [
            "3\n",
            "0000000\n",
            "0111110\n",
            "0122210\n",
            "0123210\n",
            "0122210\n",
            "0111110\n",
            "0000000\n"
          ]
        }
      ]
    },
    {
      "cell_type": "markdown",
      "source": [
        "8.\tเขียนโปรแกรมเพื่อแสดงปิรามิดบนจอภาพ โดยแสดงเป็นรูปสี่เหลี่ยม ตัวเลขเริ่มจาก 0  และเพิ่มค่าตามลําดับจํานวนขั้น จาก 0 ถึง N (รับค่า N จากคีย์บอร์ด) กําหนดให้จุดศูนย์กลางของรูปสี่เหลี่ยมอยู่ที่แถว 13 คอลัมน์ 40 ของจอภาพค่าของ N อยู่ระหว่าง 0-9 ดังตัวอย่าง\n",
        "\n",
        "\n",
        "\n",
        "```\n",
        "\t\t\t\t\t\t\t\t\t            0\n",
        "\t\t\t\t\t\t\t      0\t\t    010\n",
        "\t\t\t\t\t  0\t\t  010\t\t  01210\n",
        "\t\t\t0\t\t010\t\t01210\t\t0123210\n",
        "\t\t\t\t\t  0\t\t  010\t\t  01210\n",
        "\t\t\t\t\t\t\t      0\t\t    010\n",
        "\t\t\t\t\t\t\t\t\t            0\n",
        "\n",
        "\t\t\tn=0\t\tn=1\t\tn=2\t\tn=3\n",
        "\n",
        "```\n",
        "\n"
      ],
      "metadata": {
        "id": "ecRYU6Lkob6Q"
      }
    },
    {
      "cell_type": "code",
      "source": [
        "n = int(input(\"\"))\n",
        "\n",
        "for row in range(-n, n+1):\n",
        "     for column in range(-n, n+1):\n",
        "         if column + n == n or row + n == n or abs(column) + abs(row) <= n:\n",
        "             print(abs((abs(column)+abs(row))-n),end=\"\")\n",
        "         else:\n",
        "             print(\" \", end=\"\")\n",
        "     print()\n"
      ],
      "metadata": {
        "id": "l8dQL_yLw_-f",
        "colab": {
          "base_uri": "https://localhost:8080/"
        },
        "outputId": "cbc06ab4-069b-43b4-8a5a-d4afb5c2ee61"
      },
      "execution_count": 44,
      "outputs": [
        {
          "output_type": "stream",
          "name": "stdout",
          "text": [
            "3\n",
            "   0   \n",
            "  010  \n",
            " 01210 \n",
            "0123210\n",
            " 01210 \n",
            "  010  \n",
            "   0   \n"
          ]
        }
      ]
    },
    {
      "cell_type": "markdown",
      "source": [
        "9.\tให้เขียนโปรแกรมสร้างรูปสามเหลี่ยมที่วางซ้อนกัน 3 รูป โดยแต่ละรูปสร้างมาจากเครื่องหมาย \"*\" โดยกําหนดให้รับตัวเลขระดับของสามเหลี่ยมจากคีย์บอร์ด จากตัวอย่างข้างล่างนี้เป็นรูปสามเหลี่ยมระดับที่ 3 และ 4\n",
        "\n",
        "\n",
        "\n",
        "```\n",
        "              *\n",
        "\t\t     ***\n",
        "\t\t    *****\n",
        "\t\t   *     *\n",
        "\t      ***   ***\n",
        "\t     ***** *****\n",
        "\n",
        "  \t\t    *\n",
        "\t  \t   ***\n",
        "\t\t    *****\n",
        "\t\t   *******\n",
        "\t      *       *\n",
        "\t     ***     ***\n",
        "\t    *****   *****\n",
        "\t   ******* *******\n",
        "\n",
        "```\n",
        "\n"
      ],
      "metadata": {
        "id": "Po50A-Kuo5t4"
      }
    },
    {
      "cell_type": "code",
      "source": [
        "n = int(input(\"\"))\n",
        "\n",
        "row = n * 2\n",
        "col = ((n * 2) * 2) - 1\n",
        "\n",
        "for i in range(row):\n",
        "    for j in range(col):\n",
        "        if ((i + j >= col // 2) and (j - i <= col // 2)):\n",
        "            if (i >= n and i + j >= i * 2 and i + j < col):\n",
        "                print(\" \", end=\"\")\n",
        "            else:\n",
        "                print(\"*\", end=\"\")\n",
        "        else:\n",
        "            print(\" \", end=\"\")\n",
        "    print()"
      ],
      "metadata": {
        "id": "BCccdSxGxAgz",
        "outputId": "1b7daae3-7cc6-407b-bfd0-2c16cd6efef7",
        "colab": {
          "base_uri": "https://localhost:8080/"
        }
      },
      "execution_count": null,
      "outputs": [
        {
          "output_type": "stream",
          "name": "stdout",
          "text": [
            "3\n",
            "     *     \n",
            "    ***    \n",
            "   *****   \n",
            "  *     *  \n",
            " ***   *** \n",
            "***** *****\n"
          ]
        }
      ]
    }
  ]
}